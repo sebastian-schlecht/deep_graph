{
 "cells": [
  {
   "cell_type": "code",
   "execution_count": 1,
   "metadata": {
    "collapsed": false
   },
   "outputs": [
    {
     "name": "stderr",
     "output_type": "stream",
     "text": [
      "Using gpu device 0: GeForce GTX TITAN X (CNMeM is enabled with initial size: 85.0% of memory, CuDNN 3007)\n"
     ]
    },
    {
     "name": "stdout",
     "output_type": "stream",
     "text": [
      "\n",
      "\n",
      "  _____                _____                 _\n",
      " |  _  \\              |  __ \\               | |\n",
      " | | | |___  ___ _ __ | |  \\/_ __ __ _ _ __ | |__\n",
      " | | | / _ \\/ _ \\ '_ \\| | __| '__/ _` | '_ \\| '_ \\\n",
      " | |/ /  __/  __/ |_) | |_\\ \\ | | (_| | |_) | | | |\n",
      " |___/ \\___|\\___| .__/ \\____/_|  \\__,_| .__/|_| |_|\n",
      "                | |                   | |\n",
      "                |_|                   |_|\n",
      "\n",
      "\n",
      "Available on GitHub: https://github.com/sebastian-schlecht/deepgraph\n",
      "\n"
     ]
    }
   ],
   "source": [
    "import sys\n",
    "sys.path.append('..')\n",
    "\n",
    "from deepgraph.utils.logging import log\n",
    "from deepgraph.utils.common import batch_parallel, ConfigMixin, shuffle_in_unison_inplace, pickle_dump\n",
    "from deepgraph.utils.image import batch_pad_mirror, rotate_transformer_scalar_float32, rotate_transformer_rgb_uint8\n",
    "from deepgraph.constants import *\n",
    "from deepgraph.conf import rng\n",
    "from deepgraph.nn.core import Dropout\n",
    "\n",
    "from deepgraph.pipeline import *"
   ]
  },
  {
   "cell_type": "code",
   "execution_count": 2,
   "metadata": {
    "collapsed": false
   },
   "outputs": [],
   "source": [
    "import math\n",
    "\n",
    "def build_checkerboard(w, h) :\n",
    "    re = np.r_[ w*[0,1] ]        # even-numbered rows\n",
    "    ro = np.r_[ w*[1,0] ]        # odd-numbered rows\n",
    "    return np.row_stack(h*(re, ro))\n",
    "\n",
    "class Checkboard(Processor):\n",
    "    def __init__(self, name, shapes, config, buffer_size=10):\n",
    "        super(Checkboard, self).__init__(name, shapes, config, buffer_size)\n",
    "        self.mean = None\n",
    "\n",
    "    def init(self):\n",
    "        pass\n",
    "    def process(self):\n",
    "        packet = self.pull()\n",
    "        # Return if no data is there\n",
    "        if not packet:\n",
    "            return False\n",
    "        \n",
    "        # Do processing\n",
    "        log(\"Transformer - Processing data\", LOG_LEVEL_VERBOSE)\n",
    "        i_h = 228\n",
    "        i_w = 304\n",
    "\n",
    "        d_h = 228\n",
    "        d_w = 304\n",
    "\n",
    "        start = time.time()\n",
    "        \n",
    "        # Checkerboard to test conv autoencoder\n",
    "        \n",
    "        #data = build_checkerboard( 304/4, 228/4,).repeat(2, axis=0).repeat(2,axis=1).reshape(1,228,304).astype(np.float32)\n",
    "        data = np.zeros((228, 304), dtype=np.float32)\n",
    "        data[0:114,0:152] = 1.0\n",
    "        data[114:,152:] = 1.0\n",
    "        \n",
    "        data = data.reshape(1,228,304)\n",
    "        data = np.repeat(data[np.newaxis,:,:, :], 10, axis=0)\n",
    "        label = data.copy()\n",
    "        \n",
    "        # Try to push into queue as long as thread should not terminate\n",
    "        self.push(Packet(identifier=packet.id, phase=packet.phase, num=2, data=(data, label)))\n",
    "        return True"
   ]
  },
  {
   "cell_type": "code",
   "execution_count": 3,
   "metadata": {
    "collapsed": false
   },
   "outputs": [],
   "source": [
    "from theano.tensor.nnet import relu\n",
    "\n",
    "from deepgraph.graph import *\n",
    "from deepgraph.nn.core import *\n",
    "from deepgraph.nn.conv import *\n",
    "from deepgraph.nn.loss import *\n",
    "from deepgraph.solver import *\n",
    "\n",
    "from deepgraph.pipeline import Optimizer, H5DBLoader, Pipeline\n",
    "\n",
    "\n",
    "def build_graph():\n",
    "    graph = Graph(\"unet\")\n",
    "\n",
    "    data            = Data(graph, \"data\", T.ftensor4, shape=(-1, 1, 228, 304))\n",
    "    label           = Data(graph, \"label\", T.ftensor4, shape=(-1, 1, 228, 304), config={\n",
    "        \"phase\": PHASE_TRAIN\n",
    "    })\n",
    "    \n",
    "    conv_c1_1     = Conv2D(graph, \"conv_1_1\", config={\n",
    "            \"channels\": 64,\n",
    "            \"kernel\": (3, 3),\n",
    "            \"border_mode\": 1,\n",
    "            \"activation\": relu\n",
    "        }\n",
    "    )\n",
    "    pool_c1 = Pool(graph, \"pool_0\", config={\n",
    "        \"kernel\": (2, 2)\n",
    "    })\n",
    "    \n",
    "    conv_c2_1     = Conv2D(graph, \"conv_2_1\", config={\n",
    "            \"channels\": 128,\n",
    "            \"kernel\": (3, 3),\n",
    "            \"border_mode\": 1,\n",
    "            \"activation\": relu,\n",
    "            \"is_output\": True\n",
    "        }\n",
    "    )    \n",
    "    up_e2 = Upsample(graph, \"up_2\", config={\n",
    "            \"kernel\": (2, 2),\n",
    "            \"is_output\": True\n",
    "    })\n",
    "    up_conv_e2 = Conv2D(graph, \"up_conv_2\", config={\n",
    "            \"channels\": 64,\n",
    "            \"kernel\": (3, 3),\n",
    "            \"border_mode\": 1,\n",
    "            \"activation\": None\n",
    "        }\n",
    "    )\n",
    "    \n",
    "    conv_e_f= Conv2D(graph, \"conv_e_f\", config={\n",
    "            \"channels\": 1,\n",
    "            \"kernel\": (1, 1),\n",
    "            \"activation\": None,\n",
    "            \"is_output\": True\n",
    "        }\n",
    "    )\n",
    "    \n",
    "    \n",
    "    \n",
    "    loss            = EuclideanLoss(graph, \"loss\")\n",
    "\n",
    "    error = MSE(graph, \"mse\", config={\n",
    "        \"root\": True,\n",
    "        \"is_output\": True,\n",
    "        \"phase\": PHASE_TRAIN\n",
    "    })\n",
    "\n",
    "    # Connect\n",
    "    data.connect(conv_c1_1)\n",
    "    conv_c1_1.connect(pool_c1)\n",
    "    pool_c1.connect(conv_c2_1)\n",
    "    conv_c2_1.connect(up_e2)\n",
    "    up_e2.connect(up_conv_e2)\n",
    "    up_conv_e2.connect(conv_e_f)\n",
    "    \n",
    "    \n",
    "    conv_e_f.connect(loss)\n",
    "    conv_e_f.connect(error)\n",
    "    \n",
    "    label.connect(loss)\n",
    "    label.connect(error)\n",
    "    \n",
    "    \n",
    "\n",
    "    return graph"
   ]
  },
  {
   "cell_type": "code",
   "execution_count": 4,
   "metadata": {
    "collapsed": false
   },
   "outputs": [
    {
     "name": "stdout",
     "output_type": "stream",
     "text": [
      "[2016-04-11 17:46:02] INFO: Pipeline - Starting computation\n",
      "[2016-04-11 17:46:02] INFO: Graph - Setting up graph\n",
      "[2016-04-11 17:46:02] INFO: Node - data has shape (-1, 1, 228, 304)\n",
      "[2016-04-11 17:46:02] INFO: Node - label has shape (-1, 1, 228, 304)\n",
      "[2016-04-11 17:46:02] INFO: Node - conv_1_1 has shape (-1, 64, 228, 304)\n",
      "[2016-04-11 17:46:02] INFO: Node - pool_0 has shape (-1, 64, 114, 152)\n",
      "[2016-04-11 17:46:02] INFO: Node - conv_2_1 has shape (-1, 128, 114, 152)\n",
      "[2016-04-11 17:46:02] INFO: Node - up_2 has shape (-1, 128, 228, 304)\n",
      "[2016-04-11 17:46:02] INFO: Node - up_conv_2 has shape (-1, 64, 228, 304)\n",
      "[2016-04-11 17:46:02] INFO: Node - conv_e_f has shape (-1, 1, 228, 304)\n",
      "[2016-04-11 17:46:02] INFO: Node - loss has shape (1,)\n",
      "[2016-04-11 17:46:02] INFO: Node - mse has shape (1,)\n",
      "[2016-04-11 17:46:02] INFO: Graph - Invoking Theano compiler\n",
      "[2016-04-11 17:46:09] INFO: Optimizer - Compilation finished\n",
      "[2016-04-11 17:46:31] INFO: Optimizer - Training score at iteration 100: {'loss': array(0.2496887594461441, dtype=float32), 'mse': array(0.49968865513801575, dtype=float32)}\n",
      "[2016-04-11 17:46:31] INFO: Optimizer - Mean loss values for validation at iteration 100 is: {'loss': 0.24968433, 'mse': 0.49968424}\n",
      "[2016-04-11 17:46:53] INFO: Optimizer - Training score at iteration 200: {'loss': array(0.24899916350841522, dtype=float32), 'mse': array(0.49899816513061523, dtype=float32)}\n",
      "[2016-04-11 17:46:54] INFO: Optimizer - Mean loss values for validation at iteration 200 is: {'loss': 0.24898735, 'mse': 0.4989863}\n",
      "[2016-04-11 17:47:16] INFO: Optimizer - Training score at iteration 300: {'loss': array(0.24769243597984314, dtype=float32), 'mse': array(0.49768707156181335, dtype=float32)}\n",
      "[2016-04-11 17:47:16] INFO: Optimizer - Mean loss values for validation at iteration 300 is: {'loss': 0.24767406, 'mse': 0.49766862}\n",
      "[2016-04-11 17:47:39] INFO: Optimizer - Training score at iteration 400: {'loss': array(0.2440534383058548, dtype=float32), 'mse': array(0.49401766061782837, dtype=float32)}\n",
      "[2016-04-11 17:47:39] INFO: Optimizer - Mean loss values for validation at iteration 400 is: {'loss': 0.24398927, 'mse': 0.49395269}\n",
      "[2016-04-11 17:48:01] INFO: Optimizer - Training score at iteration 500: {'loss': array(0.22458791732788086, dtype=float32), 'mse': array(0.47390708327293396, dtype=float32)}\n",
      "[2016-04-11 17:48:01] INFO: Optimizer - Mean loss values for validation at iteration 500 is: {'loss': 0.22408243, 'mse': 0.47337344}\n",
      "[2016-04-11 17:48:24] INFO: Optimizer - Training score at iteration 600: {'loss': array(0.016757553443312645, dtype=float32), 'mse': array(0.1294509619474411, dtype=float32)}\n",
      "[2016-04-11 17:48:24] INFO: Optimizer - Mean loss values for validation at iteration 600 is: {'loss': 0.015847407, 'mse': 0.12588648}\n",
      "[2016-04-11 17:48:47] INFO: Optimizer - Training score at iteration 700: {'loss': array(0.007291986141353846, dtype=float32), 'mse': array(0.08539312332868576, dtype=float32)}\n",
      "[2016-04-11 17:48:47] INFO: Optimizer - Mean loss values for validation at iteration 700 is: {'loss': 0.0072682784, 'mse': 0.0852542}\n",
      "[2016-04-11 17:49:09] INFO: Optimizer - Training score at iteration 800: {'loss': array(0.00614970363676548, dtype=float32), 'mse': array(0.07842004299163818, dtype=float32)}\n",
      "[2016-04-11 17:49:09] INFO: Optimizer - Mean loss values for validation at iteration 800 is: {'loss': 0.0061452109, 'mse': 0.078391396}\n",
      "[2016-04-11 17:49:32] INFO: Optimizer - Training score at iteration 900: {'loss': array(0.005903573241084814, dtype=float32), 'mse': array(0.07683471590280533, dtype=float32)}\n",
      "[2016-04-11 17:49:32] INFO: Optimizer - Mean loss values for validation at iteration 900 is: {'loss': 0.0059022466, 'mse': 0.076826081}\n",
      "[2016-04-11 17:49:45] INFO: Pipeline - All commands have been dispatched\n",
      "[2016-04-11 17:49:54] INFO: Optimizer - Training score at iteration 1000: {'loss': array(0.005813975352793932, dtype=float32), 'mse': array(0.07624942809343338, dtype=float32)}\n",
      "[2016-04-11 17:49:54] INFO: Optimizer - Saving intermediate model state\n",
      "[2016-04-11 17:49:54] INFO: Graph - Model file saved as: ../data/unet_test_two_paths_only_checkerboard_iter_1000.zip\n",
      "[2016-04-11 17:49:55] INFO: Optimizer - Mean loss values for validation at iteration 1000 is: {'loss': 0.0058133393, 'mse': 0.076245256}\n",
      "[2016-04-11 17:49:55] INFO: Pipeline - Complete signal received.\n",
      "[2016-04-11 17:49:55] INFO: Pipeline - Stopping.\n"
     ]
    }
   ],
   "source": [
    "if __name__ == \"__main__\":\n",
    "\n",
    "    batch_size = 5\n",
    "    chunk_size = 2*batch_size\n",
    "    transfer_shape = ((chunk_size, 1, 228, 304), (chunk_size, 1, 228, 304))\n",
    "\n",
    "    g = build_graph()\n",
    "\n",
    "    # Build the training pipeline\n",
    "    cb = Checkboard(\"cb\", transfer_shape, config={\n",
    "    })\n",
    "    optimizer = Optimizer(\"opt\", g, transfer_shape, config={\n",
    "        \"batch_size\":  batch_size,\n",
    "        \"chunk_size\": chunk_size,\n",
    "        \"learning_rate\": 0.001,\n",
    "        \"momentum\": 0.9,\n",
    "        \"weight_decay\": 0,\n",
    "        \"print_freq\": 100,\n",
    "        \"save_freq\": 1000,\n",
    "        # \"weights\": \"../data/alexnet_combined_iter_10000.zip\",\n",
    "        \"save_prefix\": \"../data/unet_test_two_paths_only_checkerboard\"\n",
    "    })\n",
    "\n",
    "    p = Pipeline(config={\n",
    "        \"validation_frequency\": 50,\n",
    "        \"cycles\": 500 # 2 minibatches per cycle = 1000 iters\n",
    "    })\n",
    "    p.add(cb)\n",
    "    p.add(optimizer)\n",
    "    p.run()\n",
    "\n",
    "\n",
    "\n"
   ]
  },
  {
   "cell_type": "code",
   "execution_count": null,
   "metadata": {
    "collapsed": false
   },
   "outputs": [],
   "source": [
    "# Check gradients\n",
    "# g.last_updates[16].get_value()"
   ]
  },
  {
   "cell_type": "code",
   "execution_count": 5,
   "metadata": {
    "collapsed": false
   },
   "outputs": [
    {
     "name": "stdout",
     "output_type": "stream",
     "text": [
      "[2016-04-11 17:51:00] INFO: Graph - Loading parameters from file '../data/unet_test_two_paths_only_checkerboard_iter_1000.zip'\n",
      "[2016-04-11 17:51:00] INFO: Graph - Setting up graph\n",
      "[2016-04-11 17:51:00] INFO: Node - data has shape (-1, 1, 228, 304)\n",
      "[2016-04-11 17:51:00] INFO: Node - label has shape (-1, 1, 228, 304)\n",
      "[2016-04-11 17:51:00] INFO: Node - conv_1_1 has shape (-1, 64, 228, 304)\n",
      "[2016-04-11 17:51:00] INFO: Node - pool_0 has shape (-1, 64, 114, 152)\n",
      "[2016-04-11 17:51:00] INFO: Node - conv_2_1 has shape (-1, 128, 114, 152)\n",
      "[2016-04-11 17:51:00] INFO: Node - up_2 has shape (-1, 128, 228, 304)\n",
      "[2016-04-11 17:51:00] INFO: Node - up_conv_2 has shape (-1, 64, 228, 304)\n",
      "[2016-04-11 17:51:00] INFO: Node - conv_e_f has shape (-1, 1, 228, 304)\n",
      "[2016-04-11 17:51:00] INFO: Node - loss has shape (1,)\n",
      "[2016-04-11 17:51:00] INFO: Node - mse has shape (1,)\n",
      "[2016-04-11 17:51:00] INFO: Graph - Invoking Theano compiler\n"
     ]
    }
   ],
   "source": [
    "e = build_graph()\n",
    "e.load_weights(\"../data/unet_test_two_paths_only_checkerboard_iter_1000.zip\")\n",
    "e.compile()"
   ]
  },
  {
   "cell_type": "code",
   "execution_count": 7,
   "metadata": {
    "collapsed": false
   },
   "outputs": [
    {
     "name": "stdout",
     "output_type": "stream",
     "text": [
      "0.499792\n"
     ]
    },
    {
     "data": {
      "image/png": "[encoded data removed]",
      "text/plain": [
       "<matplotlib.figure.Figure at 0x7f5fe4170310>"
      ]
     },
     "metadata": {},
     "output_type": "display_data"
    },
    {
     "data": {
      "image/png": "[encoded data removed]",
      "text/plain": [
       "<matplotlib.figure.Figure at 0x7f5fe11b5090>"
      ]
     },
     "metadata": {},
     "output_type": "display_data"
    },
    {
     "data": {
      "image/png": "[encoded data removed]",
      "text/plain": [
       "<matplotlib.figure.Figure at 0x7f5fe3e2ce10>"
      ]
     },
     "metadata": {},
     "output_type": "display_data"
    }
   ],
   "source": [
    "%matplotlib inline\n",
    "import matplotlib.pyplot as plt\n",
    "from deepgraph.nn.core import Dropout\n",
    "w = 304\n",
    "h = 228\n",
    "Dropout.set_dp_off()\n",
    "\n",
    "data = np.zeros((228, 304), dtype=np.float32)\n",
    "data[0:114,0:152] = 1.0\n",
    "data[114:,152:] = 1.0\n",
    "\n",
    "data = data.reshape(1,228,304)\n",
    "data = np.repeat(data[np.newaxis,:,:, :], 1, axis=0)\n",
    "res = e.infer([data])\n",
    "o = res[\"conv_e_f\"].squeeze()\n",
    "plt.imshow(o)\n",
    "print o.mean()\n",
    "plt.show()\n",
    "plt.imshow(data.squeeze())\n",
    "plt.show()\n",
    "f_idx = 5\n",
    "u = res[\"up_2\"].squeeze()[f_idx]\n",
    "plt.imshow(u)\n",
    "plt.show()\n",
    "\n",
    "\n",
    "\n",
    "    "
   ]
  },
  {
   "cell_type": "code",
   "execution_count": 8,
   "metadata": {
    "collapsed": false
   },
   "outputs": [
    {
     "name": "stdout",
     "output_type": "stream",
     "text": [
      "0.141605\n"
     ]
    },
    {
     "data": {
      "image/png": "[encoded data removed]",
      "text/plain": [
       "<matplotlib.figure.Figure at 0x7f5fe120bfd0>"
      ]
     },
     "metadata": {},
     "output_type": "display_data"
    },
    {
     "data": {
      "image/png": "[encoded data removed]",
      "text/plain": [
       "<matplotlib.figure.Figure at 0x7f5fe3c70f50>"
      ]
     },
     "metadata": {},
     "output_type": "display_data"
    }
   ],
   "source": [
    "%matplotlib inline\n",
    "import six.moves.cPickle as pickle\n",
    "import numpy as np\n",
    "import matplotlib.pyplot as plt\n",
    "a = pickle.load(open(\"../data/unet_test_two_paths_only_checkerboard_iter_1000_loss.pkl\", \"rb\"))\n",
    "l = np.array([s[\"loss\"] for s in a])\n",
    "e = np.array([s[\"mse\"] for s in a])\n",
    "print l.mean()\n",
    "plt.plot(l)\n",
    "plt.show()\n",
    "plt.plot(e)\n",
    "plt.show()"
   ]
  },
  {
   "cell_type": "code",
   "execution_count": null,
   "metadata": {
    "collapsed": true
   },
   "outputs": [],
   "source": []
  }
 ],
 "metadata": {
  "kernelspec": {
   "display_name": "Python 2",
   "language": "python",
   "name": "python2"
  },
  "language_info": {
   "codemirror_mode": {
    "name": "ipython",
    "version": 2
   },
   "file_extension": ".py",
   "mimetype": "text/x-python",
   "name": "python",
   "nbconvert_exporter": "python",
   "pygments_lexer": "ipython2",
   "version": "2.7.11"
  }
 },
 "nbformat": 4,
 "nbformat_minor": 0
}
