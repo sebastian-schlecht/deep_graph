{
 "cells": [
  {
   "cell_type": "code",
   "execution_count": 1,
   "metadata": {
    "collapsed": false
   },
   "outputs": [
    {
     "name": "stderr",
     "output_type": "stream",
     "text": [
      "Using gpu device 0: GeForce GTX TITAN X (CNMeM is enabled with initial size: 85.0% of memory, CuDNN 3007)\n"
     ]
    },
    {
     "name": "stdout",
     "output_type": "stream",
     "text": [
      "\n",
      "\n",
      "  _____                _____                 _\n",
      " |  _  \\              |  __ \\               | |\n",
      " | | | |___  ___ _ __ | |  \\/_ __ __ _ _ __ | |__\n",
      " | | | / _ \\/ _ \\ '_ \\| | __| '__/ _` | '_ \\| '_ \\\n",
      " | |/ /  __/  __/ |_) | |_\\ \\ | | (_| | |_) | | | |\n",
      " |___/ \\___|\\___| .__/ \\____/_|  \\__,_| .__/|_| |_|\n",
      "                | |                   | |\n",
      "                |_|                   |_|\n",
      "\n",
      "\n",
      "Available on GitHub: https://github.com/sebastian-schlecht/deepgraph\n",
      "\n"
     ]
    }
   ],
   "source": [
    "import sys\n",
    "sys.path.append('..')\n",
    "\n",
    "from deepgraph.utils.logging import log\n",
    "from deepgraph.utils.common import batch_parallel, ConfigMixin, shuffle_in_unison_inplace, pickle_dump\n",
    "from deepgraph.utils.image import batch_pad_mirror, rotate_transformer_scalar_float32, rotate_transformer_rgb_uint8\n",
    "from deepgraph.constants import *\n",
    "from deepgraph.conf import rng\n",
    "from deepgraph.nn.core import Dropout\n",
    "\n",
    "from deepgraph.pipeline import *"
   ]
  },
  {
   "cell_type": "code",
   "execution_count": 2,
   "metadata": {
    "collapsed": false
   },
   "outputs": [],
   "source": [
    "import math\n",
    "\n",
    "def build_checkerboard(w, h) :\n",
    "    re = np.r_[ w*[0,1] ]        # even-numbered rows\n",
    "    ro = np.r_[ w*[1,0] ]        # odd-numbered rows\n",
    "    return np.row_stack(h*(re, ro))\n",
    "\n",
    "class Checkboard(Processor):\n",
    "    def __init__(self, name, shapes, config, buffer_size=10):\n",
    "        super(Checkboard, self).__init__(name, shapes, config, buffer_size)\n",
    "        self.mean = None\n",
    "\n",
    "    def init(self):\n",
    "        pass\n",
    "    def process(self):\n",
    "        packet = self.pull()\n",
    "        # Return if no data is there\n",
    "        if not packet:\n",
    "            return False\n",
    "        \n",
    "        # Do processing\n",
    "        log(\"Transformer - Processing data\", LOG_LEVEL_VERBOSE)\n",
    "        i_h = 228\n",
    "        i_w = 304\n",
    "\n",
    "        d_h = 228\n",
    "        d_w = 304\n",
    "\n",
    "        start = time.time()\n",
    "        \n",
    "        # Checkerboard to test conv autoencoder\n",
    "        \n",
    "        #data = build_checkerboard( 304/4, 228/4,).repeat(2, axis=0).repeat(2,axis=1).reshape(1,228,304).astype(np.float32)\n",
    "        data = np.zeros((228, 304), dtype=np.float32)\n",
    "        data[0:114,0:152] = 1.0\n",
    "        data[114:,152:] = 1.0\n",
    "        \n",
    "        data = data.reshape(1,228,304)\n",
    "        data = np.repeat(data[np.newaxis,:,:, :], 10, axis=0)\n",
    "        label = data.copy()\n",
    "        \n",
    "        # Try to push into queue as long as thread should not terminate\n",
    "        self.push(Packet(identifier=packet.id, phase=packet.phase, num=2, data=(data, label)))\n",
    "        return True"
   ]
  },
  {
   "cell_type": "code",
   "execution_count": 7,
   "metadata": {
    "collapsed": false
   },
   "outputs": [],
   "source": [
    "from theano.tensor.nnet import relu\n",
    "\n",
    "from deepgraph.graph import *\n",
    "from deepgraph.nn.core import *\n",
    "from deepgraph.nn.conv import *\n",
    "from deepgraph.nn.loss import *\n",
    "from deepgraph.solver import *\n",
    "from deepgraph.nn.init import *\n",
    "\n",
    "from deepgraph.pipeline import Optimizer, H5DBLoader, Pipeline\n",
    "\n",
    "\n",
    "def build_graph():\n",
    "    graph = Graph(\"unet\")\n",
    "\n",
    "    data            = Data(graph, \"data\", T.ftensor4, shape=(-1, 1, 228, 304))\n",
    "    label           = Data(graph, \"label\", T.ftensor4, shape=(-1, 1, 228, 304), config={\n",
    "        \"phase\": PHASE_TRAIN\n",
    "    })\n",
    "    \n",
    "    conv_c1_1     = Conv2D(graph, \"conv_c1_1\", config={\n",
    "            \"channels\": 64,\n",
    "            \"kernel\": (3, 3),\n",
    "            \"border_mode\": 1,\n",
    "            \"activation\": relu,\n",
    "            \"weight_filler\": xavier(gain=\"relu\"),\n",
    "            \"bias_filler\": constant(0)\n",
    "        }\n",
    "    )\n",
    "    conv_c1_2     = Conv2D(graph, \"conv_c1_2\", config={\n",
    "            \"channels\": 64,\n",
    "            \"kernel\": (3, 3),\n",
    "            \"border_mode\": 1,\n",
    "            \"activation\": relu,\n",
    "            \"weight_filler\": xavier(gain=\"relu\"),\n",
    "            \"bias_filler\": constant(0)\n",
    "        }\n",
    "    )\n",
    "    pool_c1 = Pool(graph, \"pool_c0\", config={\n",
    "        \"kernel\": (2, 2)\n",
    "    })\n",
    "    \n",
    "    conv_c2_1     = Conv2D(graph, \"conv_c2_1\", config={\n",
    "            \"channels\": 128,\n",
    "            \"kernel\": (3, 3),\n",
    "            \"border_mode\": 1,\n",
    "            \"activation\": relu,\n",
    "            \"weight_filler\": xavier(gain=\"relu\"),\n",
    "            \"bias_filler\": constant(0)\n",
    "        }\n",
    "    )\n",
    "    conv_c2_2     = Conv2D(graph, \"conv_c2_2\", config={\n",
    "            \"channels\": 128,\n",
    "            \"kernel\": (3, 3),\n",
    "            \"border_mode\": 1,\n",
    "            \"activation\": relu,\n",
    "            \"weight_filler\": xavier(gain=\"relu\"),\n",
    "            \"bias_filler\": constant(0)\n",
    "        }\n",
    "    )\n",
    "    \n",
    "    \n",
    "    up_e2 = Upsample(graph, \"up_e2\", config={\n",
    "            \"kernel\": (2, 2)\n",
    "    })\n",
    "    up_conv_e2 = Conv2D(graph, \"up_conv_e2\", config={\n",
    "            \"channels\": 64,\n",
    "            \"kernel\": (3, 3),\n",
    "            \"border_mode\": 1,\n",
    "            \"activation\": None,\n",
    "            \"weight_filler\": xavier(),\n",
    "            \"bias_filler\": constant(0)\n",
    "        }\n",
    "    )\n",
    "    \n",
    "    concat_1 = Concatenate(graph, \"concat_1\", config={\n",
    "            \"axis\": 1\n",
    "    })\n",
    "    \n",
    "    conv_e1_1 = Conv2D(graph, \"conv_e1_1\", config={\n",
    "            \"channels\": 64,\n",
    "            \"kernel\": (3, 3),\n",
    "            \"border_mode\": 1,\n",
    "            \"activation\": relu,\n",
    "            \"weight_filler\": xavier(gain=\"relu\"),\n",
    "            \"bias_filler\": constant(0)\n",
    "        }\n",
    "    )\n",
    "    conv_e1_2 = Conv2D(graph, \"conv_e1_2\", config={\n",
    "            \"channels\": 64,\n",
    "            \"kernel\": (3, 3),\n",
    "            \"border_mode\": 1,\n",
    "            \"activation\": relu,\n",
    "            \"weight_filler\": xavier(gain=\"relu\"),\n",
    "            \"bias_filler\": constant(0)\n",
    "        }\n",
    "    )\n",
    "    conv_e_f= Conv2D(graph, \"conv_e_f\", config={\n",
    "            \"channels\": 1,\n",
    "            \"kernel\": (1, 1),\n",
    "            \"activation\": None,\n",
    "            \"weight_filler\": xavier(),\n",
    "            \"bias_filler\": constant(0.1),\n",
    "            \"is_output\": True\n",
    "\n",
    "        }\n",
    "    )\n",
    "    \n",
    "    \n",
    "    \n",
    "    loss            = EuclideanLoss(graph, \"loss\")\n",
    "\n",
    "    error = MSE(graph, \"mse\", config={\n",
    "        \"root\": True,\n",
    "        \"is_output\": True,\n",
    "        \"phase\": PHASE_TRAIN\n",
    "    })\n",
    "\n",
    "    # Connect\n",
    "    data.connect(conv_c1_1)\n",
    "    conv_c1_1.connect(conv_c1_2)\n",
    "    conv_c1_2.connect(concat_1)\n",
    "    conv_c1_2.connect(pool_c1)\n",
    "    pool_c1.connect(conv_c2_1)\n",
    "    conv_c2_1.connect(conv_c2_2)\n",
    "    conv_c2_2.connect(up_e2)\n",
    "    up_e2.connect(up_conv_e2)\n",
    "    up_conv_e2.connect(concat_1)\n",
    "    concat_1.connect(conv_e1_1)\n",
    "    conv_e1_1.connect(conv_e1_2)\n",
    "    conv_e1_2.connect(conv_e_f)\n",
    "    \n",
    "    conv_e_f.connect(loss)\n",
    "    conv_e_f.connect(error)\n",
    "    \n",
    "    label.connect(loss)\n",
    "    label.connect(error)\n",
    "    \n",
    "    \n",
    "\n",
    "    return graph"
   ]
  },
  {
   "cell_type": "code",
   "execution_count": 4,
   "metadata": {
    "collapsed": false
   },
   "outputs": [
    {
     "name": "stdout",
     "output_type": "stream",
     "text": [
      "[2016-04-12 10:04:59] INFO: Pipeline - Starting computation\n",
      "[2016-04-12 10:04:59] INFO: Graph - Setting up graph\n",
      "[2016-04-12 10:04:59] INFO: Node - data has shape (-1, 1, 228, 304)\n",
      "[2016-04-12 10:04:59] INFO: Node - label has shape (-1, 1, 228, 304)\n",
      "[2016-04-12 10:04:59] INFO: Node - conv_c1_1 has shape (-1, 64, 228, 304)\n",
      "[2016-04-12 10:04:59] INFO: Node - conv_c1_2 has shape (-1, 64, 228, 304)\n",
      "[2016-04-12 10:04:59] INFO: Node - pool_c0 has shape (-1, 64, 114, 152)\n",
      "[2016-04-12 10:04:59] INFO: Node - conv_c2_1 has shape (-1, 128, 114, 152)\n",
      "[2016-04-12 10:04:59] INFO: Node - conv_c2_2 has shape (-1, 128, 114, 152)\n",
      "[2016-04-12 10:04:59] INFO: Node - up_e2 has shape (-1, 128, 228, 304)\n",
      "[2016-04-12 10:04:59] INFO: Node - up_conv_e2 has shape (-1, 64, 228, 304)\n",
      "[2016-04-12 10:04:59] INFO: Node - concat_1 has shape (-1, 128, 228, 304)\n",
      "[2016-04-12 10:04:59] INFO: Node - conv_e1_1 has shape (-1, 64, 228, 304)\n",
      "[2016-04-12 10:04:59] INFO: Node - conv_e1_2 has shape (-1, 64, 228, 304)\n",
      "[2016-04-12 10:04:59] INFO: Node - conv_e_f has shape (-1, 1, 228, 304)\n",
      "[2016-04-12 10:04:59] INFO: Node - loss has shape (1,)\n",
      "[2016-04-12 10:04:59] INFO: Node - mse has shape (1,)\n",
      "[2016-04-12 10:05:00] INFO: Graph - Invoking Theano compiler\n",
      "[2016-04-12 10:05:11] INFO: Optimizer - Compilation finished\n",
      "[2016-04-12 10:06:00] INFO: Optimizer - Training score at iteration 100: {'loss': array(0.006321268156170845, dtype=float32), 'mse': array(0.07950640469789505, dtype=float32)}\n",
      "[2016-04-12 10:06:00] INFO: Optimizer - Mean loss values for validation at iteration 100 is: {'loss': 0.0062991846, 'mse': 0.079367399}\n",
      "[2016-04-12 10:06:49] INFO: Optimizer - Training score at iteration 200: {'loss': array(0.004687233362346888, dtype=float32), 'mse': array(0.06846337020397186, dtype=float32)}\n",
      "[2016-04-12 10:06:50] INFO: Optimizer - Mean loss values for validation at iteration 200 is: {'loss': 0.0046745148, 'mse': 0.068370424}\n",
      "[2016-04-12 10:07:39] INFO: Optimizer - Training score at iteration 300: {'loss': array(0.0036131320521235466, dtype=float32), 'mse': array(0.06010933220386505, dtype=float32)}\n",
      "[2016-04-12 10:07:40] INFO: Optimizer - Mean loss values for validation at iteration 300 is: {'loss': 0.0036044579, 'mse': 0.060037136}\n",
      "[2016-04-12 10:08:29] INFO: Optimizer - Training score at iteration 400: {'loss': array(0.0028670369647443295, dtype=float32), 'mse': array(0.05354471877217293, dtype=float32)}\n",
      "[2016-04-12 10:08:30] INFO: Optimizer - Mean loss values for validation at iteration 400 is: {'loss': 0.0028606611, 'mse': 0.053485148}\n",
      "[2016-04-12 10:09:19] INFO: Optimizer - Training score at iteration 500: {'loss': array(0.0023098746314644814, dtype=float32), 'mse': array(0.048061154782772064, dtype=float32)}\n",
      "[2016-04-12 10:09:19] INFO: Optimizer - Mean loss values for validation at iteration 500 is: {'loss': 0.0023048681, 'mse': 0.048009042}\n",
      "[2016-04-12 10:10:08] INFO: Optimizer - Training score at iteration 600: {'loss': array(0.0018436993705108762, dtype=float32), 'mse': array(0.042938318103551865, dtype=float32)}\n",
      "[2016-04-12 10:10:09] INFO: Optimizer - Mean loss values for validation at iteration 600 is: {'loss': 0.0018395841, 'mse': 0.042890374}\n",
      "[2016-04-12 10:10:58] INFO: Optimizer - Training score at iteration 700: {'loss': array(0.0014639387372881174, dtype=float32), 'mse': array(0.038261450827121735, dtype=float32)}\n",
      "[2016-04-12 10:10:58] INFO: Optimizer - Mean loss values for validation at iteration 700 is: {'loss': 0.0014604795, 'mse': 0.038216218}\n",
      "[2016-04-12 10:11:47] INFO: Optimizer - Training score at iteration 800: {'loss': array(0.001163272769190371, dtype=float32), 'mse': array(0.0341067835688591, dtype=float32)}\n",
      "[2016-04-12 10:11:47] INFO: Optimizer - Mean loss values for validation at iteration 800 is: {'loss': 0.0011606845, 'mse': 0.034068819}\n",
      "[2016-04-12 10:12:36] INFO: Optimizer - Training score at iteration 900: {'loss': array(0.0009355314541608095, dtype=float32), 'mse': array(0.03058645874261856, dtype=float32)}\n",
      "[2016-04-12 10:12:37] INFO: Optimizer - Mean loss values for validation at iteration 900 is: {'loss': 0.00093351543, 'mse': 0.030553484}\n",
      "[2016-04-12 10:13:05] INFO: Pipeline - All commands have been dispatched\n",
      "[2016-04-12 10:13:26] INFO: Optimizer - Training score at iteration 1000: {'loss': array(0.000757161935325712, dtype=float32), 'mse': array(0.027516575530171394, dtype=float32)}\n",
      "[2016-04-12 10:13:26] INFO: Optimizer - Saving intermediate model state\n",
      "[2016-04-12 10:13:26] INFO: Graph - Model file saved as: ../data/unet_test_two_paths_only_checkerboard_iter_1000.zip\n",
      "[2016-04-12 10:13:26] INFO: Optimizer - Mean loss values for validation at iteration 1000 is: {'loss': 0.00075557758, 'mse': 0.027487772}\n",
      "[2016-04-12 10:13:26] INFO: Pipeline - Complete signal received.\n",
      "[2016-04-12 10:13:26] INFO: Pipeline - Stopping.\n"
     ]
    }
   ],
   "source": [
    "if __name__ == \"__main__\":\n",
    "\n",
    "    batch_size = 5\n",
    "    chunk_size = 2*batch_size\n",
    "    transfer_shape = ((chunk_size, 1, 228, 304), (chunk_size, 1, 228, 304))\n",
    "\n",
    "    g = build_graph()\n",
    "\n",
    "    # Build the training pipeline\n",
    "    cb = Checkboard(\"cb\", transfer_shape, config={\n",
    "    })\n",
    "    optimizer = Optimizer(\"opt\", g, transfer_shape, config={\n",
    "        \"batch_size\":  batch_size,\n",
    "        \"chunk_size\": chunk_size,\n",
    "        \"learning_rate\": 0.001,\n",
    "        \"momentum\": 0.9,\n",
    "        \"weight_decay\": 0,\n",
    "        \"print_freq\": 100,\n",
    "        \"save_freq\": 1000,\n",
    "        # \"weights\": \"../data/alexnet_combined_iter_10000.zip\",\n",
    "        \"save_prefix\": \"../data/unet_test_two_paths_only_checkerboard\"\n",
    "    })\n",
    "\n",
    "    p = Pipeline(config={\n",
    "        \"validation_frequency\": 50,\n",
    "        \"cycles\": 500 # 2 minibatches per cycle = 1000 iters\n",
    "    })\n",
    "    p.add(cb)\n",
    "    p.add(optimizer)\n",
    "    p.run()\n",
    "\n",
    "\n",
    "\n"
   ]
  },
  {
   "cell_type": "code",
   "execution_count": null,
   "metadata": {
    "collapsed": false
   },
   "outputs": [],
   "source": [
    "# Check gradients\n",
    "# g.last_updates[16].get_value()"
   ]
  },
  {
   "cell_type": "code",
   "execution_count": 8,
   "metadata": {
    "collapsed": false
   },
   "outputs": [
    {
     "name": "stdout",
     "output_type": "stream",
     "text": [
      "[2016-04-12 10:20:43] INFO: Graph - Loading parameters from file '../data/unet_test_two_paths_only_checkerboard_iter_1000.zip'\n",
      "[2016-04-12 10:20:43] INFO: Graph - Setting up graph\n",
      "[2016-04-12 10:20:43] INFO: Node - data has shape (-1, 1, 228, 304)\n",
      "[2016-04-12 10:20:43] INFO: Node - label has shape (-1, 1, 228, 304)\n",
      "[2016-04-12 10:20:43] INFO: Node - conv_c1_1 has shape (-1, 64, 228, 304)\n",
      "[2016-04-12 10:20:43] INFO: Node - conv_c1_2 has shape (-1, 64, 228, 304)\n",
      "[2016-04-12 10:20:43] INFO: Node - pool_c0 has shape (-1, 64, 114, 152)\n",
      "[2016-04-12 10:20:43] INFO: Node - conv_c2_1 has shape (-1, 128, 114, 152)\n",
      "[2016-04-12 10:20:43] INFO: Node - conv_c2_2 has shape (-1, 128, 114, 152)\n",
      "[2016-04-12 10:20:43] INFO: Node - up_e2 has shape (-1, 128, 228, 304)\n",
      "[2016-04-12 10:20:43] INFO: Node - up_conv_e2 has shape (-1, 64, 228, 304)\n",
      "[2016-04-12 10:20:43] INFO: Node - concat_1 has shape (-1, 128, 228, 304)\n",
      "[2016-04-12 10:20:43] INFO: Node - conv_e1_1 has shape (-1, 64, 228, 304)\n",
      "[2016-04-12 10:20:43] INFO: Node - conv_e1_2 has shape (-1, 64, 228, 304)\n",
      "[2016-04-12 10:20:43] INFO: Node - conv_e_f has shape (-1, 1, 228, 304)\n",
      "[2016-04-12 10:20:43] INFO: Node - loss has shape (1,)\n",
      "[2016-04-12 10:20:43] INFO: Node - mse has shape (1,)\n",
      "[2016-04-12 10:20:44] INFO: Graph - Invoking Theano compiler\n"
     ]
    }
   ],
   "source": [
    "e = build_graph()\n",
    "e.load_weights(\"../data/unet_test_two_paths_only_checkerboard_iter_1000.zip\")\n",
    "e.compile(phase=PHASE_INFER)"
   ]
  },
  {
   "cell_type": "code",
   "execution_count": 12,
   "metadata": {
    "collapsed": false
   },
   "outputs": [
    {
     "name": "stdout",
     "output_type": "stream",
     "text": [
      "0.499659\n"
     ]
    },
    {
     "data": {
      "image/png": "[encoded data removed]",
      "text/plain": [
       "<matplotlib.figure.Figure at 0x7fc170efe690>"
      ]
     },
     "metadata": {},
     "output_type": "display_data"
    },
    {
     "data": {
      "image/png": "[encoded data removed]",
      "text/plain": [
       "<matplotlib.figure.Figure at 0x7fc170cc2f10>"
      ]
     },
     "metadata": {},
     "output_type": "display_data"
    },
    {
     "name": "stdout",
     "output_type": "stream",
     "text": [
      "0.000755582\n"
     ]
    }
   ],
   "source": [
    "%matplotlib inline\n",
    "import matplotlib.pyplot as plt\n",
    "from deepgraph.nn.core import Dropout\n",
    "w = 304\n",
    "h = 228\n",
    "Dropout.set_dp_off()\n",
    "\n",
    "data = np.zeros((228, 304), dtype=np.float32)\n",
    "data[0:114,0:152] = 1.0\n",
    "data[114:,152:] = 1.0\n",
    "\n",
    "data = data.reshape(1,228,304)\n",
    "data = np.repeat(data[np.newaxis,:,:, :], 1, axis=0)\n",
    "res = e.infer([data])\n",
    "o = res[\"conv_e_f\"].squeeze()\n",
    "plt.imshow(o)\n",
    "print o.mean()\n",
    "plt.show()\n",
    "plt.imshow(data.squeeze())\n",
    "plt.show()\n",
    "\n",
    "print ((o - data.squeeze()) ** 2).mean()\n",
    "\n",
    "\n",
    "\n",
    "    "
   ]
  },
  {
   "cell_type": "code",
   "execution_count": null,
   "metadata": {
    "collapsed": true
   },
   "outputs": [],
   "source": []
  }
 ],
 "metadata": {
  "kernelspec": {
   "display_name": "Python 2",
   "language": "python",
   "name": "python2"
  },
  "language_info": {
   "codemirror_mode": {
    "name": "ipython",
    "version": 2
   },
   "file_extension": ".py",
   "mimetype": "text/x-python",
   "name": "python",
   "nbconvert_exporter": "python",
   "pygments_lexer": "ipython2",
   "version": "2.7.11"
  }
 },
 "nbformat": 4,
 "nbformat_minor": 0
}
