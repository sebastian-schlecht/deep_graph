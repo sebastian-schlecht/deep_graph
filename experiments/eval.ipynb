{
 "cells": [
  {
   "cell_type": "code",
   "execution_count": 2,
   "metadata": {
    "collapsed": true
   },
   "outputs": [],
   "source": [
    "%matplotlib inline\n",
    "import six.moves.cPickle as pickle\n",
    "import numpy as np\n",
    "import matplotlib.pyplot as plt\n"
   ]
  },
  {
   "cell_type": "code",
   "execution_count": 3,
   "metadata": {
    "collapsed": true
   },
   "outputs": [],
   "source": [
    "def collect_losses(files):\n",
    "    l = []\n",
    "    for f in files:\n",
    "        p = pickle.load(open(f, \"rb\"))\n",
    "        ls = np.array([s[\"loss\"] for s in p])\n",
    "        l.append(ls)\n",
    "    return np.concatenate(l)"
   ]
  },
  {
   "cell_type": "code",
   "execution_count": 12,
   "metadata": {
    "collapsed": false
   },
   "outputs": [],
   "source": [
    "losses = collect_losses([\n",
    "        # '/data/vnet2_crop_start_with_30k_iter_90000_loss.pkl',\n",
    "        # '/data/vnet2_crop_start_with_120k_iter_90000_loss.pkl',\n",
    "        # '/data/vnet2_crop_start_with_210k_lower_lr_convdrop_iter_60000_loss.pkl'\n",
    "        '/data/vnet2_crop_convdrop_logloss_iter_50000_loss.pkl'\n",
    "    ])"
   ]
  },
  {
   "cell_type": "code",
   "execution_count": 18,
   "metadata": {
    "collapsed": false
   },
   "outputs": [
    {
     "name": "stdout",
     "output_type": "stream",
     "text": [
      "0.150110732891\n"
     ]
    },
    {
     "data": {
      "image/png": "[encoded data removed]",
      "text/plain": [
       "<matplotlib.figure.Figure at 0x7f97d9e0eb10>"
      ]
     },
     "metadata": {},
     "output_type": "display_data"
    }
   ],
   "source": [
    "plt.plot(losses.clip(0,10))\n",
    "print losses[40000:].mean()\n",
    "plt.show()"
   ]
  },
  {
   "cell_type": "code",
   "execution_count": null,
   "metadata": {
    "collapsed": true
   },
   "outputs": [],
   "source": []
  }
 ],
 "metadata": {
  "kernelspec": {
   "display_name": "Python 2",
   "language": "python",
   "name": "python2"
  },
  "language_info": {
   "codemirror_mode": {
    "name": "ipython",
    "version": 2
   },
   "file_extension": ".py",
   "mimetype": "text/x-python",
   "name": "python",
   "nbconvert_exporter": "python",
   "pygments_lexer": "ipython2",
   "version": "2.7.11"
  }
 },
 "nbformat": 4,
 "nbformat_minor": 0
}
