{
 "cells": [
  {
   "cell_type": "code",
   "execution_count": 7,
   "metadata": {
    "collapsed": false
   },
   "outputs": [],
   "source": [
    "%matplotlib inline\n",
    "import six.moves.cPickle as pickle\n",
    "import numpy as np\n",
    "import matplotlib.pyplot as plt\n"
   ]
  },
  {
   "cell_type": "code",
   "execution_count": 8,
   "metadata": {
    "collapsed": true
   },
   "outputs": [],
   "source": [
    "def collect_losses(files, type, loss):\n",
    "    l = []\n",
    "    for f in files:\n",
    "        p = pickle.load(open(f, \"rb\"))\n",
    "        ls = np.array([s[loss] for s in p[type]])\n",
    "        l.append(ls)\n",
    "    return np.concatenate(l)"
   ]
  },
  {
   "cell_type": "code",
   "execution_count": 15,
   "metadata": {
    "collapsed": false,
    "scrolled": true
   },
   "outputs": [
    {
     "name": "stdout",
     "output_type": "stream",
     "text": [
      "Total number of train iters: 500\n",
      "Total number of train iters: 500\n",
      "Total number of val iters: 0\n",
      "Warning: Less than two epochs of validation.\n",
      "Total number of val iters: 0\n",
      "Warning: Less than two epochs of validation.\n",
      "Train Loss (RED) (averaged over 100 iterations)\n",
      "Validation Loss (BLUE) (averaged over 2 iterations)\n"
     ]
    },
    {
     "data": {
      "text/plain": [
       "[<matplotlib.lines.Line2D at 0x7fc1bdfc2950>,\n",
       " <matplotlib.lines.Line2D at 0x7fc1c0c16250>,\n",
       " <matplotlib.lines.Line2D at 0x7fc1bdfd0210>,\n",
       " <matplotlib.lines.Line2D at 0x7fc1bdfd0850>]"
      ]
     },
     "execution_count": 15,
     "metadata": {},
     "output_type": "execute_result"
    },
    {
     "data": {
      "image/png": "[encoded data removed]",
      "text/plain": [
       "<matplotlib.figure.Figure at 0x7fc1c0c165d0>"
      ]
     },
     "metadata": {},
     "output_type": "display_data"
    }
   ],
   "source": [
    "\n",
    "dump_files = [\n",
    "             #'/data/depth_models/vnet2_nyu_official_tmp_loss.pkl'\n",
    "             '/media/data/depth_models/vnet2_logloss_raw_tmp_loss.pkl'\n",
    "            ]\n",
    "losses = collect_losses(dump_files,\"train\",\"loss\")\n",
    "# Epoch-wise mean\n",
    "N = 100\n",
    "print \"Total number of train iters: %i\" % len(losses)\n",
    "if len(losses) < 2*N:\n",
    "    print \"Warning: Less than two epochs of training.\"\n",
    "nn  = np.zeros((len(losses) // N))\n",
    "for x in range(len(losses) // N):\n",
    "    nn[x] = losses[x*N:(x+1)*N].mean()\n",
    "    \n",
    "\n",
    "    \n",
    "losses = collect_losses(dump_files,\"train\",\"mse\")\n",
    "# Epoch-wise mean\n",
    "print \"Total number of train iters: %i\" % len(losses)\n",
    "if len(losses) < 2*N:\n",
    "    print \"Warning: Less than two epochs of training.\"\n",
    "nr  = np.zeros((len(losses) // N))\n",
    "for x in range(len(losses) // N):\n",
    "    nr[x] = losses[x*N:(x+1)*N].mean()\n",
    "    \n",
    "    \n",
    "    \n",
    "    \n",
    "losses = collect_losses(dump_files,\"val\", \"loss\")\n",
    "# Epoch-wise mean\n",
    "X = 2\n",
    "print \"Total number of val iters: %i\" % len(losses)\n",
    "if len(losses) < 2*X:\n",
    "    print \"Warning: Less than two epochs of validation.\"\n",
    "nl  = np.zeros((len(losses) // X))\n",
    "for x in range(len(losses) // X):\n",
    "    nl[x] = losses[x*X:(x+1)*X].mean()\n",
    "    \n",
    "    \n",
    "losses = collect_losses(dump_files,\"val\", \"mse\")\n",
    "# Epoch-wise mean\n",
    "print \"Total number of val iters: %i\" % len(losses)\n",
    "if len(losses) < 2*X:\n",
    "    print \"Warning: Less than two epochs of validation.\"\n",
    "nlr  = np.zeros((len(losses) // X))\n",
    "for x in range(len(losses) // X):\n",
    "    nlr[x] = losses[x*X:(x+1)*X].mean()\n",
    "    \n",
    "    \n",
    "print \"Train Loss (RED) (averaged over %i iterations)\" % N\n",
    "print \"Validation Loss (BLUE) (averaged over %i iterations)\" % X\n",
    "x1 = np.arange(len(nn))\n",
    "x2 = np.arange(len(nl))\n",
    "plt.plot(x1, nn,'r-',x2, nl, 'b-',x1, nr, 'r--', x2, nlr, 'b--')\n",
    "\n"
   ]
  },
  {
   "cell_type": "code",
   "execution_count": null,
   "metadata": {
    "collapsed": true
   },
   "outputs": [],
   "source": []
  }
 ],
 "metadata": {
  "kernelspec": {
   "display_name": "Python 2",
   "language": "python",
   "name": "python2"
  },
  "language_info": {
   "codemirror_mode": {
    "name": "ipython",
    "version": 2
   },
   "file_extension": ".py",
   "mimetype": "text/x-python",
   "name": "python",
   "nbconvert_exporter": "python",
   "pygments_lexer": "ipython2",
   "version": "2.7.11"
  }
 },
 "nbformat": 4,
 "nbformat_minor": 0
}
