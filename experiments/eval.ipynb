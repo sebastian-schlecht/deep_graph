{
 "cells": [
  {
   "cell_type": "code",
   "execution_count": 42,
   "metadata": {
    "collapsed": true
   },
   "outputs": [],
   "source": [
    "%matplotlib inline\n",
    "import six.moves.cPickle as pickle\n",
    "import numpy as np\n",
    "import matplotlib.pyplot as plt\n"
   ]
  },
  {
   "cell_type": "code",
   "execution_count": 288,
   "metadata": {
    "collapsed": true
   },
   "outputs": [],
   "source": [
    "def collect_losses(files):\n",
    "    l = []\n",
    "    for f in files:\n",
    "        p = pickle.load(open(f, \"rb\"))\n",
    "        ls = np.array([s[\"loss\"] for s in p[\"train\"]])\n",
    "        l.append(ls)\n",
    "    return np.concatenate(l)"
   ]
  },
  {
   "cell_type": "code",
   "execution_count": 297,
   "metadata": {
    "collapsed": false
   },
   "outputs": [],
   "source": [
    "losses = collect_losses([\n",
    "        '/data/depth_models/vnet2_tmp_loss.pkl'\n",
    "    ])\n",
    "# Epoch-wise mean\n",
    "N = 825\n",
    "\n",
    "if len(losses) < 2*N:\n",
    "    print \"Warning: Less than two epochs of training.\"\n",
    "nn  = np.zeros((len(losses) // N))\n",
    "for x in range(len(losses) // N):\n",
    "    nn[x] = losses[x*N:(x+1)*N].mean()"
   ]
  },
  {
   "cell_type": "code",
   "execution_count": 298,
   "metadata": {
    "collapsed": false,
    "scrolled": true
   },
   "outputs": [
    {
     "name": "stdout",
     "output_type": "stream",
     "text": [
      "19\n"
     ]
    },
    {
     "data": {
      "image/png": "[encoded data removed]",
      "text/plain": [
       "<matplotlib.figure.Figure at 0x7f97d1c80790>"
      ]
     },
     "metadata": {},
     "output_type": "display_data"
    }
   ],
   "source": [
    "plt.plot(nn)\n",
    "print len(nn)\n",
    "plt.show()"
   ]
  },
  {
   "cell_type": "code",
   "execution_count": null,
   "metadata": {
    "collapsed": true
   },
   "outputs": [],
   "source": []
  }
 ],
 "metadata": {
  "kernelspec": {
   "display_name": "Python 2",
   "language": "python",
   "name": "python2"
  },
  "language_info": {
   "codemirror_mode": {
    "name": "ipython",
    "version": 2
   },
   "file_extension": ".py",
   "mimetype": "text/x-python",
   "name": "python",
   "nbconvert_exporter": "python",
   "pygments_lexer": "ipython2",
   "version": "2.7.11"
  }
 },
 "nbformat": 4,
 "nbformat_minor": 0
}
